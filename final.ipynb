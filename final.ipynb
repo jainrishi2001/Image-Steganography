{
 "cells": [
  {
   "cell_type": "code",
   "execution_count": 1,
   "metadata": {},
   "outputs": [],
   "source": [
    "import sys\n",
    "import numpy as np\n",
    "from PIL import Image\n",
    "import math\n",
    "from Crypto.Cipher import DES3\n",
    "from Crypto.Random import get_random_bytes"
   ]
  },
  {
   "cell_type": "code",
   "execution_count": 2,
   "metadata": {},
   "outputs": [],
   "source": [
    "key=get_random_bytes(24)\n",
    "key\n",
    "message = \"Class eu quam elit, adipiscing leo condimentum, aptent elementum sapien ac congue iaculis. Lacinia aptent, maecenas id erat. Ad convallis nibh placerat, potenti a curabitur, at litora leo molestie consequat amet tellus. Dui cursus, mollis euismod feugiat. Suspendisse vitae rhoncus, sed sagittis, magna erat commodo velit vulputate praesent. Eu etiam aliquam neque, eget venenatis elit, fringilla curabitur sociosqu cras mi ante. Vehicula eget, ac vivamus luctus malesuada. Class auctor cursus adipiscing, donec sodales curabitur, tellus donec dui eu ante diam mattis. Sagittis tempor netus, feugiat quis non nulla. Class augue ut, phasellus donec, lacinia praesent neque sem nunc.\"\n",
    "src = r'/Users/jainrishi1456/Desktop/cover_image.png'\n",
    "dest = r'/Users/jainrishi1456/Desktop/shuffled_stego_image.png'"
   ]
  },
  {
   "cell_type": "code",
   "execution_count": 3,
   "metadata": {},
   "outputs": [
    {
     "name": "stdout",
     "output_type": "stream",
     "text": [
      "<class 'bytes'>\n",
      "Cipher text: b'Tz\\xdb\\xab\\x9f#\\xb8\\xe7\\x0b\\xef\\xe8v\\xf4w\\x8c\\xfeV[\\x1f\\x99\\x1eg\\x08\\x91-\\x10\\x1d\\xc4\\x1e\\xd3\\xad\\xb7\\x9d\\xcc\\xfdy\\x99G\\xa39 I\\xb7\\xa0\\x97\\xa3\\x88\\xc8\\x1c%\\xfe\\xda\\xb5{*G5R{\\xf6#\\xc7zd\\x05\\xae@\\xe8\\xe6\\x08\\xe9\\xe7\\x16\\x95\\t\\x06\\xa2X\\xf3\\x87\\x93]7/\\x9c\\xed\\x04\\xecg\\xcb\\xa4l\\xac\\xea\\xe5\\x984\\xa4\\x98r&\\xd5\\xaa\\xf2\\xe3\\xccLsR\\xeel\\xd3r\\xac\\x1a8F\\xa7}\\xa1\\xe4\\xaa\\x01Ylc\\xe4\\x9f\\xa5X.\\xbb\\x9bK\\xb78\\x89s\\x15\\xba\\xfd\\xc1\\xfc\\xf2\\x97\\xa6\\x00aW-G\\xf5\\xb2yM\\xe0\\x19\\xaaI\\xfb\\xa7L\\xe3\\x9d\\x0f\\xb6h\\xf3\\x03z\\xa6\\x9b\\x8d\\xd2\\xa3\\xb9\\xb1\\x0c\\x8d~\\xe9;\\x9e9\\xbf\\xec\\x9e\\xbc\\x9b\\x0c\\xf6\\xd7>\\x82\\x17v*\\xb3\\xf3\\xdf\\x13x@\\xcfD\\x83\\'\\x1c\\xad=\\x08+d;m\\xb9\\xfd\\xa3\\x94,\\xb7j\\x9a$\\xfeW@Z\\x05>\\x04K\\xed\\x96_/\\xe9\\xb8X{\\x9c\\xd0\\x9b\\x1e\\xfc\\x9aG_\\xedS\\xccN\\x1f\\x03SY\\xec;\\xad\\x8f\\x81\\x0f\\xee\\xb8\\xb4\\x1e\\xa2\\xb6\\x81\\xf8\\x939[\\xfd\\xd7I\\xf1\\x83\\\\\\x04W\\x96|\\'\\xb0~Q1)x,\\x18\\xa9`\\xa6\\xd3B\\x01d4pj\\xf7>\\xde\\xc2\\xa0\\x078\\xb2^\\xc3\\xc6\\x05B\\x9an\\x9d+G\\x99x \\xb8\\x8bru\\n\\x17\\\\BK}D\\x00h\\x19\\xa2\\xa1\\x00\\xe2\\xa5`\\xc1\\xf1\\x8f;\\xfa\\n\\xf5\\x95\\xb2\\x93M[\\xa3\\xcb\\xa9)\\x1f\\'t/\\xf2m\\xfb\\xef\\x13\\t\\xe4\\xf3]\\xb9\\xd0$S\\xe8\\x17\\x03\\x99:\\xb4o\\'\\xb8Z\\x95\\xdb\\xc6\\x12\\xd5\\x8d%@\\xf0\\x92\\x7f\\xdb\\xfea\\xf83\\xef\\xa5\\xe60\\xbd\\xf1}<Z\\xe1^m\\x0b\\xa02\\x9e$f\\xd8\\x1b\\x06\\xe5\\x85\\xdf+\\xec \\x1a\\xdcG\\xac\\xfc3/$a\\r\\xb3\\xad\\x04S\\xff\\x03^\\xcb&vF\\xa4\\x9c\\x13k*v\\xf1\\xdd:\\xe7\\x8a}\\xd7X\\x9b \\xf2_2\\xa28\\xe7\\xd0\\xb5\\x15\"PYagl\\x98y2\\xbf\\x0c\\xad\\xa8t\\xf4\\'\\x84\\x11C\\xb6\\xdb\\x82\\xd6#\\xc5J\\x9a%[\\x93\\xb3\\x02x\\xd1\\x85Tn \\x13\\x14\\x83\\x86\"\\x88\\x80!d\\xb4=70\\xde\\x87\\xc6\\xda\\x15!x>\\x0b\\xf7ys\\xdc\\xc1\\xe4\\xa5E\\xa8\\xda\\xd0\\xbc$\\xe3\\x882%b\\xb2\\x8f\\n\\xbc\\x98g\"Cq\\xfa\\x12}\\x0e%\\xe9\\x14cR\\xbf:\\x13q\\x97{\\xaa)\\xd4\\xf9\\x04\\x0e~\\xb4_\\xb6\\x85\\xf3\\xfa\\x8b\\xee\\xa0\\xbd\\x19\\xcc\\xd8?\\xa3\\xe7\\xd1\\xce}\\xe8j%z\\x18\\xf39\\x85\\xe7T\\x13\\x91\\x0f$\\xb7\\x15A\\x9d]c_\\xaao{JjZ\\x9d\\x04\\xa8\\xc8\\xc5\\na\\xcb\\'\\xde\\x84\\x7f\\x86fj\\xda\\xf2t\\x85x\\x81\\xcd\\xefT\\x97\\xa2\\xa2\\xbdO\\xa0\\x9a\\xff@\\x9a\\x1e\\x9c#h0\\x0e\\xac\\xb2\\x93\\x7f\\xc0\\xe7\\x03\\xca.\\xbc\\x05'\n",
      "Plain text: Class eu quam elit, adipiscing leo condimentum, aptent elementum sapien ac congue iaculis. Lacinia aptent, maecenas id erat. Ad convallis nibh placerat, potenti a curabitur, at litora leo molestie consequat amet tellus. Dui cursus, mollis euismod feugiat. Suspendisse vitae rhoncus, sed sagittis, magna erat commodo velit vulputate praesent. Eu etiam aliquam neque, eget venenatis elit, fringilla curabitur sociosqu cras mi ante. Vehicula eget, ac vivamus luctus malesuada. Class auctor cursus adipiscing, donec sodales curabitur, tellus donec dui eu ante diam mattis. Sagittis tempor netus, feugiat quis non nulla. Class augue ut, phasellus donec, lacinia praesent neque sem nunc.\n"
     ]
    }
   ],
   "source": [
    "from Crypto.Cipher import DES3\n",
    "from Crypto.Random import get_random_bytes\n",
    "\n",
    "while True:\n",
    "    try:\n",
    "        key = DES3.adjust_key_parity(get_random_bytes(24))\n",
    "        break\n",
    "    except ValueError:\n",
    "        pass\n",
    "\n",
    "def encrypt(msg):\n",
    "    cipher = DES3.new(key, DES3.MODE_EAX)\n",
    "    nonce = cipher.nonce\n",
    "    ciphertext = cipher.encrypt(msg.encode('ascii'))\n",
    "    return nonce, ciphertext\n",
    "\n",
    "def decrypt(nonce, ciphertext):\n",
    "    cipher = DES3.new(key, DES3.MODE_EAX, nonce=nonce)\n",
    "    plaintext = cipher.decrypt(ciphertext)\n",
    "    return plaintext.decode('ascii')\n",
    "\n",
    "nonce, ciphertext = encrypt(message)\n",
    "plaintext = decrypt(nonce, ciphertext)\n",
    "print(type(ciphertext))\n",
    "print(\"Cipher text:\", ciphertext)\n",
    "print('Plain text:', plaintext)"
   ]
  },
  {
   "cell_type": "code",
   "execution_count": 4,
   "metadata": {},
   "outputs": [
    {
     "name": "stdout",
     "output_type": "stream",
     "text": [
      "Tz\\xdb\\xab\\x9f#\\xb8\\xe7\\x0b\\xef\\xe8v\\xf4w\\x8c\\xfeV[\\x1f\\x99\\x1eg\\x08\\x91-\\x10\\x1d\\xc4\\x1e\\xd3\\xad\\xb7\\x9d\\xcc\\xfdy\\x99G\\xa39 I\\xb7\\xa0\\x97\\xa3\\x88\\xc8\\x1c%\\xfe\\xda\\xb5{*G5R{\\xf6#\\xc7zd\\x05\\xae@\\xe8\\xe6\\x08\\xe9\\xe7\\x16\\x95\\t\\x06\\xa2X\\xf3\\x87\\x93]7/\\x9c\\xed\\x04\\xecg\\xcb\\xa4l\\xac\\xea\\xe5\\x984\\xa4\\x98r&\\xd5\\xaa\\xf2\\xe3\\xccLsR\\xeel\\xd3r\\xac\\x1a8F\\xa7}\\xa1\\xe4\\xaa\\x01Ylc\\xe4\\x9f\\xa5X.\\xbb\\x9bK\\xb78\\x89s\\x15\\xba\\xfd\\xc1\\xfc\\xf2\\x97\\xa6\\x00aW-G\\xf5\\xb2yM\\xe0\\x19\\xaaI\\xfb\\xa7L\\xe3\\x9d\\x0f\\xb6h\\xf3\\x03z\\xa6\\x9b\\x8d\\xd2\\xa3\\xb9\\xb1\\x0c\\x8d~\\xe9;\\x9e9\\xbf\\xec\\x9e\\xbc\\x9b\\x0c\\xf6\\xd7>\\x82\\x17v*\\xb3\\xf3\\xdf\\x13x@\\xcfD\\x83\\'\\x1c\\xad=\\x08+d;m\\xb9\\xfd\\xa3\\x94,\\xb7j\\x9a$\\xfeW@Z\\x05>\\x04K\\xed\\x96_/\\xe9\\xb8X{\\x9c\\xd0\\x9b\\x1e\\xfc\\x9aG_\\xedS\\xccN\\x1f\\x03SY\\xec;\\xad\\x8f\\x81\\x0f\\xee\\xb8\\xb4\\x1e\\xa2\\xb6\\x81\\xf8\\x939[\\xfd\\xd7I\\xf1\\x83\\\\\\x04W\\x96|\\'\\xb0~Q1)x,\\x18\\xa9`\\xa6\\xd3B\\x01d4pj\\xf7>\\xde\\xc2\\xa0\\x078\\xb2^\\xc3\\xc6\\x05B\\x9an\\x9d+G\\x99x \\xb8\\x8bru\\n\\x17\\\\BK}D\\x00h\\x19\\xa2\\xa1\\x00\\xe2\\xa5`\\xc1\\xf1\\x8f;\\xfa\\n\\xf5\\x95\\xb2\\x93M[\\xa3\\xcb\\xa9)\\x1f\\'t/\\xf2m\\xfb\\xef\\x13\\t\\xe4\\xf3]\\xb9\\xd0$S\\xe8\\x17\\x03\\x99:\\xb4o\\'\\xb8Z\\x95\\xdb\\xc6\\x12\\xd5\\x8d%@\\xf0\\x92\\x7f\\xdb\\xfea\\xf83\\xef\\xa5\\xe60\\xbd\\xf1}<Z\\xe1^m\\x0b\\xa02\\x9e$f\\xd8\\x1b\\x06\\xe5\\x85\\xdf+\\xec \\x1a\\xdcG\\xac\\xfc3/$a\\r\\xb3\\xad\\x04S\\xff\\x03^\\xcb&vF\\xa4\\x9c\\x13k*v\\xf1\\xdd:\\xe7\\x8a}\\xd7X\\x9b \\xf2_2\\xa28\\xe7\\xd0\\xb5\\x15\"PYagl\\x98y2\\xbf\\x0c\\xad\\xa8t\\xf4\\'\\x84\\x11C\\xb6\\xdb\\x82\\xd6#\\xc5J\\x9a%[\\x93\\xb3\\x02x\\xd1\\x85Tn \\x13\\x14\\x83\\x86\"\\x88\\x80!d\\xb4=70\\xde\\x87\\xc6\\xda\\x15!x>\\x0b\\xf7ys\\xdc\\xc1\\xe4\\xa5E\\xa8\\xda\\xd0\\xbc$\\xe3\\x882%b\\xb2\\x8f\\n\\xbc\\x98g\"Cq\\xfa\\x12}\\x0e%\\xe9\\x14cR\\xbf:\\x13q\\x97{\\xaa)\\xd4\\xf9\\x04\\x0e~\\xb4_\\xb6\\x85\\xf3\\xfa\\x8b\\xee\\xa0\\xbd\\x19\\xcc\\xd8?\\xa3\\xe7\\xd1\\xce}\\xe8j%z\\x18\\xf39\\x85\\xe7T\\x13\\x91\\x0f$\\xb7\\x15A\\x9d]c_\\xaao{JjZ\\x9d\\x04\\xa8\\xc8\\xc5\\na\\xcb\\'\\xde\\x84\\x7f\\x86fj\\xda\\xf2t\\x85x\\x81\\xcd\\xefT\\x97\\xa2\\xa2\\xbdO\\xa0\\x9a\\xff@\\x9a\\x1e\\x9c#h0\\x0e\\xac\\xb2\\x93\\x7f\\xc0\\xe7\\x03\\xca.\\xbc\\x05\n",
      "[17, 107, 211, 79, 141, 54, 52, 139, 201, 9, 46, 97, 208, 13, 220, 20, 91, 15, 1, 18, 207, 225, 138, 198, 134, 171, 155, 175, 7, 122, 97, 14, 94, 123, 99, 130, 141, 230, 104, 109, 164, 197, 210, 172, 212, 90, 235, 189, 79, 146, 243, 83, 53, 114, 72, 129, 56, 29, 18, 110, 140, 25, 151, 195, 227, 163, 79, 76, 164, 38, 1, 248, 112, 195, 6, 124, 23, 156, 241, 162, 223, 18, 109, 230, 194, 227, 76, 20, 227, 171, 167, 74, 103, 202, 137, 234, 43, 213, 154, 216, 134, 0, 113, 46, 249, 97, 161, 68, 98, 143, 205, 94, 72, 178, 39, 5, 172, 241, 249, 252, 196, 176, 151, 70, 184, 171, 32, 134, 104, 119, 124, 85, 255, 101, 92, 235, 157, 245, 72, 64, 226, 173, 15, 139, 203, 183, 153, 70, 99, 224, 203, 95, 79, 220, 87, 20, 239, 128, 250, 48, 166, 70, 126, 192, 101, 159, 36, 72, 237, 6, 58, 123, 5, 182, 27, 204, 30, 166, 7, 251, 207, 6, 77, 22, 16, 19, 176, 18, 164, 249, 106, 9, 36, 222, 79, 175, 91, 80, 235, 50, 227, 51, 56, 140, 68, 189, 125, 68, 245, 212, 239, 150, 197, 34, 121, 248, 96, 96, 214, 83, 111, 43, 170, 35, 216, 81, 197, 141, 240, 115, 114, 30, 216, 29, 132, 192, 5, 233, 93, 242, 235, 8, 69, 158, 39, 35, 160, 155, 65, 120, 95, 44, 125, 163, 73, 97, 14, 135, 189, 211, 148, 138, 17, 245, 21, 100, 13, 2, 28, 151, 210, 33, 234, 170, 125, 0, 253, 217, 39, 172, 251, 170, 91, 14, 140, 116, 95, 99, 141, 3, 222, 148, 223, 242, 6, 110, 122, 150, 130, 94, 4, 215, 98, 53, 4, 186, 33, 24, 211, 33, 171, 66, 107, 91, 130, 219, 173, 129, 242, 187, 254, 14, 206, 189, 161, 170, 247, 87, 20, 193, 195, 98, 206, 79, 132, 181, 56, 221, 185, 43, 22, 35, 239, 244, 229, 172, 192, 144, 118, 232, 113, 209, 129, 225, 210, 244, 130, 148, 62, 229, 101, 242, 188, 84, 79, 233, 215, 71, 157, 208, 58, 197, 38, 126, 2, 114, 30, 110, 147, 72, 151, 115, 172, 102, 205, 200, 88, 145, 218, 194, 211, 99, 89, 178, 138, 53, 197, 39, 171, 188, 214, 148, 23, 246, 113, 98, 229, 138, 233, 220, 34, 56, 44, 239, 78, 12, 73, 106, 32, 247, 119, 109, 254, 104, 32, 194, 172, 176, 81, 109, 156, 203, 160, 12, 89, 8, 58, 235, 252, 197, 103, 92, 228, 142, 153, 182, 224, 146, 145, 213, 41, 167, 158, 24, 236, 190, 186, 3, 41, 108, 245, 155, 185, 90, 220, 211, 49, 33, 150, 11, 227, 77, 160, 107, 241, 101, 197, 244, 77, 109, 222, 254, 54, 78, 47, 120, 164, 111, 225, 218, 4, 153, 97, 94, 117, 50, 54, 44, 215, 132, 248, 128, 47, 10, 43, 158, 8, 181, 18, 26, 86, 60, 209, 47, 229, 156, 45, 59, 47, 247, 151, 41, 39, 69, 159, 140, 145, 185, 207, 31, 54, 12, 196, 197, 180, 204, 62, 78, 196, 148, 159, 160, 13, 98, 124, 32, 223, 3, 125, 1, 25, 207, 123, 94, 65, 194, 250, 194, 165, 206, 49, 22, 135, 102, 105, 88, 248, 109, 33, 30, 158, 73, 231, 239, 193, 112, 211, 124, 181, 52, 148, 181, 146, 14, 2, 234, 135, 63, 103, 3, 142, 228, 226, 34, 59, 111, 195, 32, 133, 114, 97, 232, 85, 251, 65, 133, 163, 95, 57, 23, 204, 63, 184, 93, 97, 45, 5, 131, 115, 153, 58, 32, 181, 81, 152, 145, 242, 214, 225, 50, 130, 136, 66, 168, 30, 230, 177, 19, 140, 73, 4, 171, 64, 0, 58, 126, 102, 189, 31, 0, 84, 244, 116, 65, 43, 230, 43, 94, 242, 231, 70, 200, 225, 114, 43, 114, 66, 221, 88, 135, 171, 33, 181, 86, 216, 237, 45, 2, 45, 201, 143]\n",
      "b'\\x11k\\xd3O\\x8d64\\x8b\\xc9\\t.a\\xd0\\r\\xdc\\x14[\\x0f\\x01\\x12\\xcf\\xe1\\x8a\\xc6\\x86\\xab\\x9b\\xaf\\x07za\\x0e^{c\\x82\\x8d\\xe6hm\\xa4\\xc5\\xd2\\xac\\xd4Z\\xeb\\xbdO\\x92\\xf3S5rH\\x818\\x1d\\x12n\\x8c\\x19\\x97\\xc3\\xe3\\xa3OL\\xa4&\\x01\\xf8p\\xc3\\x06|\\x17\\x9c\\xf1\\xa2\\xdf\\x12m\\xe6\\xc2\\xe3L\\x14\\xe3\\xab\\xa7Jg\\xca\\x89\\xea+\\xd5\\x9a\\xd8\\x86\\x00q.\\xf9a\\xa1Db\\x8f\\xcd^H\\xb2\\'\\x05\\xac\\xf1\\xf9\\xfc\\xc4\\xb0\\x97F\\xb8\\xab \\x86hw|U\\xffe\\\\\\xeb\\x9d\\xf5H@\\xe2\\xad\\x0f\\x8b\\xcb\\xb7\\x99Fc\\xe0\\xcb_O\\xdcW\\x14\\xef\\x80\\xfa0\\xa6F~\\xc0e\\x9f$H\\xed\\x06:{\\x05\\xb6\\x1b\\xcc\\x1e\\xa6\\x07\\xfb\\xcf\\x06M\\x16\\x10\\x13\\xb0\\x12\\xa4\\xf9j\\t$\\xdeO\\xaf[P\\xeb2\\xe338\\x8cD\\xbd}D\\xf5\\xd4\\xef\\x96\\xc5\"y\\xf8``\\xd6So+\\xaa#\\xd8Q\\xc5\\x8d\\xf0sr\\x1e\\xd8\\x1d\\x84\\xc0\\x05\\xe9]\\xf2\\xeb\\x08E\\x9e\\'#\\xa0\\x9bAx_,}\\xa3Ia\\x0e\\x87\\xbd\\xd3\\x94\\x8a\\x11\\xf5\\x15d\\r\\x02\\x1c\\x97\\xd2!\\xea\\xaa}\\x00\\xfd\\xd9\\'\\xac\\xfb\\xaa[\\x0e\\x8ct_c\\x8d\\x03\\xde\\x94\\xdf\\xf2\\x06nz\\x96\\x82^\\x04\\xd7b5\\x04\\xba!\\x18\\xd3!\\xabBk[\\x82\\xdb\\xad\\x81\\xf2\\xbb\\xfe\\x0e\\xce\\xbd\\xa1\\xaa\\xf7W\\x14\\xc1\\xc3b\\xceO\\x84\\xb58\\xdd\\xb9+\\x16#\\xef\\xf4\\xe5\\xac\\xc0\\x90v\\xe8q\\xd1\\x81\\xe1\\xd2\\xf4\\x82\\x94>\\xe5e\\xf2\\xbcTO\\xe9\\xd7G\\x9d\\xd0:\\xc5&~\\x02r\\x1en\\x93H\\x97s\\xacf\\xcd\\xc8X\\x91\\xda\\xc2\\xd3cY\\xb2\\x8a5\\xc5\\'\\xab\\xbc\\xd6\\x94\\x17\\xf6qb\\xe5\\x8a\\xe9\\xdc\"8,\\xefN\\x0cIj \\xf7wm\\xfeh \\xc2\\xac\\xb0Qm\\x9c\\xcb\\xa0\\x0cY\\x08:\\xeb\\xfc\\xc5g\\\\\\xe4\\x8e\\x99\\xb6\\xe0\\x92\\x91\\xd5)\\xa7\\x9e\\x18\\xec\\xbe\\xba\\x03)l\\xf5\\x9b\\xb9Z\\xdc\\xd31!\\x96\\x0b\\xe3M\\xa0k\\xf1e\\xc5\\xf4Mm\\xde\\xfe6N/x\\xa4o\\xe1\\xda\\x04\\x99a^u26,\\xd7\\x84\\xf8\\x80/\\n+\\x9e\\x08\\xb5\\x12\\x1aV<\\xd1/\\xe5\\x9c-;/\\xf7\\x97)\\'E\\x9f\\x8c\\x91\\xb9\\xcf\\x1f6\\x0c\\xc4\\xc5\\xb4\\xcc>N\\xc4\\x94\\x9f\\xa0\\rb| \\xdf\\x03}\\x01\\x19\\xcf{^A\\xc2\\xfa\\xc2\\xa5\\xce1\\x16\\x87fiX\\xf8m!\\x1e\\x9eI\\xe7\\xef\\xc1p\\xd3|\\xb54\\x94\\xb5\\x92\\x0e\\x02\\xea\\x87?g\\x03\\x8e\\xe4\\xe2\";o\\xc3 \\x85ra\\xe8U\\xfbA\\x85\\xa3_9\\x17\\xcc?\\xb8]a-\\x05\\x83s\\x99: \\xb5Q\\x98\\x91\\xf2\\xd6\\xe12\\x82\\x88B\\xa8\\x1e\\xe6\\xb1\\x13\\x8cI\\x04\\xab@\\x00:~f\\xbd\\x1f\\x00T\\xf4tA+\\xe6+^\\xf2\\xe7F\\xc8\\xe1r+rB\\xddX\\x87\\xab!\\xb5V\\xd8\\xed-\\x02-\\xc9\\x8f'\n"
     ]
    }
   ],
   "source": [
    "s=str(ciphertext)\n",
    "s=s[2:-1]\n",
    "print(s)\n",
    "v=b'\\x11k\\xd3O\\x8d64\\x8b\\xc9\\t.a\\xd0\\r\\xdc\\x14[\\x0f\\x01\\x12\\xcf\\xe1\\x8a\\xc6\\x86\\xab\\x9b\\xaf\\x07za\\x0e^{c\\x82\\x8d\\xe6hm\\xa4\\xc5\\xd2\\xac\\xd4Z\\xeb\\xbdO\\x92\\xf3S5rH\\x818\\x1d\\x12n\\x8c\\x19\\x97\\xc3\\xe3\\xa3OL\\xa4&\\x01\\xf8p\\xc3\\x06|\\x17\\x9c\\xf1\\xa2\\xdf\\x12m\\xe6\\xc2\\xe3L\\x14\\xe3\\xab\\xa7Jg\\xca\\x89\\xea+\\xd5\\x9a\\xd8\\x86\\x00q.\\xf9a\\xa1Db\\x8f\\xcd^H\\xb2\\'\\x05\\xac\\xf1\\xf9\\xfc\\xc4\\xb0\\x97F\\xb8\\xab \\x86hw|U\\xffe\\\\\\xeb\\x9d\\xf5H@\\xe2\\xad\\x0f\\x8b\\xcb\\xb7\\x99Fc\\xe0\\xcb_O\\xdcW\\x14\\xef\\x80\\xfa0\\xa6F~\\xc0e\\x9f$H\\xed\\x06:{\\x05\\xb6\\x1b\\xcc\\x1e\\xa6\\x07\\xfb\\xcf\\x06M\\x16\\x10\\x13\\xb0\\x12\\xa4\\xf9j\\t$\\xdeO\\xaf[P\\xeb2\\xe338\\x8cD\\xbd}D\\xf5\\xd4\\xef\\x96\\xc5\"y\\xf8``\\xd6So+\\xaa#\\xd8Q\\xc5\\x8d\\xf0sr\\x1e\\xd8\\x1d\\x84\\xc0\\x05\\xe9]\\xf2\\xeb\\x08E\\x9e\\'#\\xa0\\x9bAx_,}\\xa3Ia\\x0e\\x87\\xbd\\xd3\\x94\\x8a\\x11\\xf5\\x15d\\r\\x02\\x1c\\x97\\xd2!\\xea\\xaa}\\x00\\xfd\\xd9\\'\\xac\\xfb\\xaa[\\x0e\\x8ct_c\\x8d\\x03\\xde\\x94\\xdf\\xf2\\x06nz\\x96\\x82^\\x04\\xd7b5\\x04\\xba!\\x18\\xd3!\\xabBk[\\x82\\xdb\\xad\\x81\\xf2\\xbb\\xfe\\x0e\\xce\\xbd\\xa1\\xaa\\xf7W\\x14\\xc1\\xc3b\\xceO\\x84\\xb58\\xdd\\xb9+\\x16#\\xef\\xf4\\xe5\\xac\\xc0\\x90v\\xe8q\\xd1\\x81\\xe1\\xd2\\xf4\\x82\\x94>\\xe5e\\xf2\\xbcTO\\xe9\\xd7G\\x9d\\xd0:\\xc5&~\\x02r\\x1en\\x93H\\x97s\\xacf\\xcd\\xc8X\\x91\\xda\\xc2\\xd3cY\\xb2\\x8a5\\xc5\\'\\xab\\xbc\\xd6\\x94\\x17\\xf6qb\\xe5\\x8a\\xe9\\xdc\"8,\\xefN\\x0cIj \\xf7wm\\xfeh \\xc2\\xac\\xb0Qm\\x9c\\xcb\\xa0\\x0cY\\x08:\\xeb\\xfc\\xc5g\\\\\\xe4\\x8e\\x99\\xb6\\xe0\\x92\\x91\\xd5)\\xa7\\x9e\\x18\\xec\\xbe\\xba\\x03)l\\xf5\\x9b\\xb9Z\\xdc\\xd31!\\x96\\x0b\\xe3M\\xa0k\\xf1e\\xc5\\xf4Mm\\xde\\xfe6N/x\\xa4o\\xe1\\xda\\x04\\x99a^u26,\\xd7\\x84\\xf8\\x80/\\n+\\x9e\\x08\\xb5\\x12\\x1aV<\\xd1/\\xe5\\x9c-;/\\xf7\\x97)\\'E\\x9f\\x8c\\x91\\xb9\\xcf\\x1f6\\x0c\\xc4\\xc5\\xb4\\xcc>N\\xc4\\x94\\x9f\\xa0\\rb| \\xdf\\x03}\\x01\\x19\\xcf{^A\\xc2\\xfa\\xc2\\xa5\\xce1\\x16\\x87fiX\\xf8m!\\x1e\\x9eI\\xe7\\xef\\xc1p\\xd3|\\xb54\\x94\\xb5\\x92\\x0e\\x02\\xea\\x87?g\\x03\\x8e\\xe4\\xe2\";o\\xc3 \\x85ra\\xe8U\\xfbA\\x85\\xa3_9\\x17\\xcc?\\xb8]a-\\x05\\x83s\\x99: \\xb5Q\\x98\\x91\\xf2\\xd6\\xe12\\x82\\x88B\\xa8\\x1e\\xe6\\xb1\\x13\\x8cI\\x04\\xab@\\x00:~f\\xbd\\x1f\\x00T\\xf4tA+\\xe6+^\\xf2\\xe7F\\xc8\\xe1r+rB\\xddX\\x87\\xab!\\xb5V\\xd8\\xed-\\x02-\\xc9\\x8f'\n",
    "s=list(v)\n",
    "print(s)\n",
    "c=bytes(s)\n",
    "print(c)"
   ]
  },
  {
   "cell_type": "code",
   "execution_count": 5,
   "metadata": {},
   "outputs": [
    {
     "name": "stdout",
     "output_type": "stream",
     "text": [
      "Done!\n"
     ]
    }
   ],
   "source": [
    "im = Image.open(src, \"r\")\n",
    "arr = im.load() #pixel data stored in this 2D array\n",
    "\n",
    "def rot(A, n, x1, y1): #this is the function which rotates a given block\n",
    "    temple = []\n",
    "    for i in range(n):\n",
    "        temple.append([])\n",
    "        for j in range(n):\n",
    "            temple[i].append(arr[x1+i, y1+j])\n",
    "    for i in range(n):\n",
    "        for j in range(n):\n",
    "            arr[x1+i,y1+j] = temple[n-1-i][n-1-j]\n",
    "\n",
    "\n",
    "xres,yres=im.size\n",
    "blocksize = 50 #blocksize\n",
    "for i in range(2, blocksize+1):\n",
    "    for j in range(int(math.floor(float(xres)/float(i)))):\n",
    "        for k in range(int(math.floor(float(yres)/float(i)))):\n",
    "            rot(arr, i, j*i, k*i)\n",
    "for i in range(3, blocksize+1):\n",
    "    for j in range(int(math.floor(float(xres)/float(blocksize+2-i)))):\n",
    "        for k in range(int(math.floor(float(yres)/float(blocksize+2-i)))):\n",
    "            rot(arr, blocksize+2-i, j*(blocksize+2-i), k*(blocksize+2-i))\n",
    "\n",
    "im.save(\"shuffled image\"+\".png\")\n",
    "\n",
    "print(\"Done!\")"
   ]
  },
  {
   "cell_type": "code",
   "execution_count": 8,
   "metadata": {},
   "outputs": [
    {
     "name": "stdout",
     "output_type": "stream",
     "text": [
      "b'Tz\\xdb\\xab\\x9f#\\xb8\\xe7\\x0b\\xef\\xe8v\\xf4w\\x8c\\xfeV[\\x1f\\x99\\x1eg\\x08\\x91-\\x10\\x1d\\xc4\\x1e\\xd3\\xad\\xb7\\x9d\\xcc\\xfdy\\x99G\\xa39 I\\xb7\\xa0\\x97\\xa3\\x88\\xc8\\x1c%\\xfe\\xda\\xb5{*G5R{\\xf6#\\xc7zd\\x05\\xae@\\xe8\\xe6\\x08\\xe9\\xe7\\x16\\x95\\t\\x06\\xa2X\\xf3\\x87\\x93]7/\\x9c\\xed\\x04\\xecg\\xcb\\xa4l\\xac\\xea\\xe5\\x984\\xa4\\x98r&\\xd5\\xaa\\xf2\\xe3\\xccLsR\\xeel\\xd3r\\xac\\x1a8F\\xa7}\\xa1\\xe4\\xaa\\x01Ylc\\xe4\\x9f\\xa5X.\\xbb\\x9bK\\xb78\\x89s\\x15\\xba\\xfd\\xc1\\xfc\\xf2\\x97\\xa6\\x00aW-G\\xf5\\xb2yM\\xe0\\x19\\xaaI\\xfb\\xa7L\\xe3\\x9d\\x0f\\xb6h\\xf3\\x03z\\xa6\\x9b\\x8d\\xd2\\xa3\\xb9\\xb1\\x0c\\x8d~\\xe9;\\x9e9\\xbf\\xec\\x9e\\xbc\\x9b\\x0c\\xf6\\xd7>\\x82\\x17v*\\xb3\\xf3\\xdf\\x13x@\\xcfD\\x83\\'\\x1c\\xad=\\x08+d;m\\xb9\\xfd\\xa3\\x94,\\xb7j\\x9a$\\xfeW@Z\\x05>\\x04K\\xed\\x96_/\\xe9\\xb8X{\\x9c\\xd0\\x9b\\x1e\\xfc\\x9aG_\\xedS\\xccN\\x1f\\x03SY\\xec;\\xad\\x8f\\x81\\x0f\\xee\\xb8\\xb4\\x1e\\xa2\\xb6\\x81\\xf8\\x939[\\xfd\\xd7I\\xf1\\x83\\\\\\x04W\\x96|\\'\\xb0~Q1)x,\\x18\\xa9`\\xa6\\xd3B\\x01d4pj\\xf7>\\xde\\xc2\\xa0\\x078\\xb2^\\xc3\\xc6\\x05B\\x9an\\x9d+G\\x99x \\xb8\\x8bru\\n\\x17\\\\BK}D\\x00h\\x19\\xa2\\xa1\\x00\\xe2\\xa5`\\xc1\\xf1\\x8f;\\xfa\\n\\xf5\\x95\\xb2\\x93M[\\xa3\\xcb\\xa9)\\x1f\\'t/\\xf2m\\xfb\\xef\\x13\\t\\xe4\\xf3]\\xb9\\xd0$S\\xe8\\x17\\x03\\x99:\\xb4o\\'\\xb8Z\\x95\\xdb\\xc6\\x12\\xd5\\x8d%@\\xf0\\x92\\x7f\\xdb\\xfea\\xf83\\xef\\xa5\\xe60\\xbd\\xf1}<Z\\xe1^m\\x0b\\xa02\\x9e$f\\xd8\\x1b\\x06\\xe5\\x85\\xdf+\\xec \\x1a\\xdcG\\xac\\xfc3/$a\\r\\xb3\\xad\\x04S\\xff\\x03^\\xcb&vF\\xa4\\x9c\\x13k*v\\xf1\\xdd:\\xe7\\x8a}\\xd7X\\x9b \\xf2_2\\xa28\\xe7\\xd0\\xb5\\x15\"PYagl\\x98y2\\xbf\\x0c\\xad\\xa8t\\xf4\\'\\x84\\x11C\\xb6\\xdb\\x82\\xd6#\\xc5J\\x9a%[\\x93\\xb3\\x02x\\xd1\\x85Tn \\x13\\x14\\x83\\x86\"\\x88\\x80!d\\xb4=70\\xde\\x87\\xc6\\xda\\x15!x>\\x0b\\xf7ys\\xdc\\xc1\\xe4\\xa5E\\xa8\\xda\\xd0\\xbc$\\xe3\\x882%b\\xb2\\x8f\\n\\xbc\\x98g\"Cq\\xfa\\x12}\\x0e%\\xe9\\x14cR\\xbf:\\x13q\\x97{\\xaa)\\xd4\\xf9\\x04\\x0e~\\xb4_\\xb6\\x85\\xf3\\xfa\\x8b\\xee\\xa0\\xbd\\x19\\xcc\\xd8?\\xa3\\xe7\\xd1\\xce}\\xe8j%z\\x18\\xf39\\x85\\xe7T\\x13\\x91\\x0f$\\xb7\\x15A\\x9d]c_\\xaao{JjZ\\x9d\\x04\\xa8\\xc8\\xc5\\na\\xcb\\'\\xde\\x84\\x7f\\x86fj\\xda\\xf2t\\x85x\\x81\\xcd\\xefT\\x97\\xa2\\xa2\\xbdO\\xa0\\x9a\\xff@\\x9a\\x1e\\x9c#h0\\x0e\\xac\\xb2\\x93\\x7f\\xc0\\xe7\\x03\\xca.\\xbc\\x05'\n",
      "Image Encoded Successfully\n"
     ]
    },
    {
     "data": {
      "text/plain": [
       "'/Users/jainrishi1456/Desktop/shuffled_stego_image.png'"
      ]
     },
     "execution_count": 8,
     "metadata": {},
     "output_type": "execute_result"
    }
   ],
   "source": [
    "np.set_printoptions(threshold=sys.maxsize)\n",
    "def Encode(src, message, dest):\n",
    "    message=str(message)\n",
    "    print(message)\n",
    "    img = Image.open(src, 'r')\n",
    "    width, height = img.size\n",
    "    array = np.array(list(img.getdata()))\n",
    "    n=3\n",
    "    total_pixels = array.size//n\n",
    "    b_message = ''.join([format(ord(i), \"08b\") for i in message])+ \"1111111111111111\" \n",
    "    req_pixels = len(b_message)\n",
    "    if req_pixels > (total_pixels * 3):\n",
    "        print(\"ERROR: Need larger file size\")\n",
    "        return\n",
    "    index=0\n",
    "    for p in range(total_pixels):\n",
    "        for q in range(0, 3):\n",
    "            if index < req_pixels:\n",
    "                array[p][q] = int(bin(array[p][q])[2:9] + b_message[index], 2)\n",
    "                index += 1\n",
    "    array=array.reshape(height, width, n)\n",
    "    enc_img = Image.fromarray(array.astype('uint8'), img.mode)\n",
    "    enc_img.save(dest)\n",
    "    print(\"Image Encoded Successfully\")\n",
    "ciphertext\n",
    "Encode(r'/Users/jainrishi1456/Desktop/shuffled image.png', ciphertext, dest)\n",
    "dest"
   ]
  },
  {
   "cell_type": "code",
   "execution_count": 10,
   "metadata": {},
   "outputs": [
    {
     "name": "stdout",
     "output_type": "stream",
     "text": [
      "Done!\n"
     ]
    }
   ],
   "source": [
    "im = Image.open(r'/Users/jainrishi1456/Desktop/shuffled_stego_image.png', \"r\")\n",
    "arr = im.load() #pixel data stored in this 2D array\n",
    "\n",
    "def rot(A, n, x1, y1): #this is the function which rotates a given block\n",
    "    temple = []\n",
    "    for i in range(n):\n",
    "        temple.append([])\n",
    "        for j in range(n):\n",
    "            temple[i].append(arr[x1+i, y1+j])\n",
    "    for i in range(n):\n",
    "        for j in range(n):\n",
    "            arr[x1+i,y1+j] = temple[n-1-i][n-1-j]\n",
    "\n",
    "\n",
    "xres,yres=im.size\n",
    "blocksize = 50 #blocksize\n",
    "for i in range(2, blocksize+1):\n",
    "    for j in range(int(math.floor(float(xres)/float(i)))):\n",
    "        for k in range(int(math.floor(float(yres)/float(i)))):\n",
    "            rot(arr, i, j*i, k*i)\n",
    "for i in range(3, blocksize+1):\n",
    "    for j in range(int(math.floor(float(xres)/float(blocksize+2-i)))):\n",
    "        for k in range(int(math.floor(float(yres)/float(blocksize+2-i)))):\n",
    "            rot(arr, blocksize+2-i, j*(blocksize+2-i), k*(blocksize+2-i))\n",
    "\n",
    "im.save(\"final_stego_image\"+\".png\")\n",
    "\n",
    "print(\"Done!\")"
   ]
  },
  {
   "attachments": {},
   "cell_type": "markdown",
   "metadata": {},
   "source": [
    "De-Stego"
   ]
  },
  {
   "cell_type": "code",
   "execution_count": 11,
   "metadata": {},
   "outputs": [
    {
     "name": "stdout",
     "output_type": "stream",
     "text": [
      "Done!\n"
     ]
    }
   ],
   "source": [
    "im = Image.open(r'/Users/jainrishi1456/Desktop/final_stego_image.png', \"r\")\n",
    "arr = im.load() #pixel data stored in this 2D array\n",
    "\n",
    "def rot(A, n, x1, y1): #this is the function which rotates a given block\n",
    "    temple = []\n",
    "    for i in range(n):\n",
    "        temple.append([])\n",
    "        for j in range(n):\n",
    "            temple[i].append(arr[x1+i, y1+j])\n",
    "    for i in range(n):\n",
    "        for j in range(n):\n",
    "            arr[x1+i,y1+j] = temple[n-1-i][n-1-j]\n",
    "\n",
    "\n",
    "xres,yres=im.size\n",
    "blocksize = 50 #blocksize\n",
    "for i in range(2, blocksize+1):\n",
    "    for j in range(int(math.floor(float(xres)/float(i)))):\n",
    "        for k in range(int(math.floor(float(yres)/float(i)))):\n",
    "            rot(arr, i, j*i, k*i)\n",
    "for i in range(3, blocksize+1):\n",
    "    for j in range(int(math.floor(float(xres)/float(blocksize+2-i)))):\n",
    "        for k in range(int(math.floor(float(yres)/float(blocksize+2-i)))):\n",
    "            rot(arr, blocksize+2-i, j*(blocksize+2-i), k*(blocksize+2-i))\n",
    "\n",
    "im.save(\"destego_shuffled image\"+\".png\")\n",
    "\n",
    "print(\"Done!\")"
   ]
  },
  {
   "cell_type": "code",
   "execution_count": 12,
   "metadata": {},
   "outputs": [],
   "source": [
    "from PIL import Image\n",
    "\n",
    "def decode_lsb(image_path):\n",
    "    img = Image.open(image_path).convert('RGB')\n",
    "    pixels = img.load()\n",
    "    binary_data = \"\"\n",
    "    for row in range(img.size[1]):\n",
    "        for col in range(img.size[0]):\n",
    "            r_binary, g_binary, b_binary = map(lambda x: format(x, '08b'), pixels[col, row])\n",
    "            binary_data += r_binary[-1] + g_binary[-1] + b_binary[-1]\n",
    "            if len(binary_data) >= 16 and binary_data[-16:] == \"1111111111111111\":\n",
    "                ascii_data = \"\"\n",
    "                for i in range(0, len(binary_data) - 16, 8):\n",
    "                    ascii_data += chr(int(binary_data[i:i+8], 2))\n",
    "                return ascii_data\n",
    "    return \"\""
   ]
  },
  {
   "cell_type": "code",
   "execution_count": 13,
   "metadata": {},
   "outputs": [],
   "source": [
    "decoded_message = decode_lsb(r\"/Users/jainrishi1456/Desktop/destego_shuffled image.png\")"
   ]
  },
  {
   "cell_type": "code",
   "execution_count": 14,
   "metadata": {},
   "outputs": [
    {
     "data": {
      "text/plain": [
       "'b\\'Tz\\\\xdb\\\\xab\\\\x9f#\\\\xb8\\\\xe7\\\\x0b\\\\xef\\\\xe8v\\\\xf4w\\\\x8c\\\\xfeV[\\\\x1f\\\\x99\\\\x1eg\\\\x08\\\\x91-\\\\x10\\\\x1d\\\\xc4\\\\x1e\\\\xd3\\\\xad\\\\xb7\\\\x9d\\\\xcc\\\\xfdy\\\\x99G\\\\xa39 I\\\\xb7\\\\xa0\\\\x97\\\\xa3\\\\x88\\\\xc8\\\\x1c%\\\\xfe\\\\xda\\\\xb5{*G5R{\\\\xf6#\\\\xc7zd\\\\x05\\\\xae@\\\\xe8\\\\xe6\\\\x08\\\\xe9\\\\xe7\\\\x16\\\\x95\\\\t\\\\x06\\\\xa2X\\\\xf3\\\\x87\\\\x93]7/\\\\x9c\\\\xed\\\\x04\\\\xecg\\\\xcb\\\\xa4l\\\\xac\\\\xea\\\\xe5\\\\x984\\\\xa4\\\\x98r&\\\\xd5\\\\xaa\\\\xf2\\\\xe3\\\\xccLsR\\\\xeel\\\\xd3r\\\\xac\\\\x1a8F\\\\xa7}\\\\xa1\\\\xe4\\\\xaa\\\\x01Ylc\\\\xe4\\\\x9f\\\\xa5X.\\\\xbb\\\\x9bK\\\\xb78\\\\x89s\\\\x15\\\\xba\\\\xfd\\\\xc1\\\\xfc\\\\xf2\\\\x97\\\\xa6\\\\x00aW-G\\\\xf5\\\\xb2yM\\\\xe0\\\\x19\\\\xaaI\\\\xfb\\\\xa7L\\\\xe3\\\\x9d\\\\x0f\\\\xb6h\\\\xf3\\\\x03z\\\\xa6\\\\x9b\\\\x8d\\\\xd2\\\\xa3\\\\xb9\\\\xb1\\\\x0c\\\\x8d~\\\\xe9;\\\\x9e9\\\\xbf\\\\xec\\\\x9e\\\\xbc\\\\x9b\\\\x0c\\\\xf6\\\\xd7>\\\\x82\\\\x17v*\\\\xb3\\\\xf3\\\\xdf\\\\x13x@\\\\xcfD\\\\x83\\\\\\'\\\\x1c\\\\xad=\\\\x08+d;m\\\\xb9\\\\xfd\\\\xa3\\\\x94,\\\\xb7j\\\\x9a$\\\\xfeW@Z\\\\x05>\\\\x04K\\\\xed\\\\x96_/\\\\xe9\\\\xb8X{\\\\x9c\\\\xd0\\\\x9b\\\\x1e\\\\xfc\\\\x9aG_\\\\xedS\\\\xccN\\\\x1f\\\\x03SY\\\\xec;\\\\xad\\\\x8f\\\\x81\\\\x0f\\\\xee\\\\xb8\\\\xb4\\\\x1e\\\\xa2\\\\xb6\\\\x81\\\\xf8\\\\x939[\\\\xfd\\\\xd7I\\\\xf1\\\\x83\\\\\\\\\\\\x04W\\\\x96|\\\\\\'\\\\xb0~Q1)x,\\\\x18\\\\xa9`\\\\xa6\\\\xd3B\\\\x01d4pj\\\\xf7>\\\\xde\\\\xc2\\\\xa0\\\\x078\\\\xb2^\\\\xc3\\\\xc6\\\\x05B\\\\x9an\\\\x9d+G\\\\x99x \\\\xb8\\\\x8bru\\\\n\\\\x17\\\\\\\\BK}D\\\\x00h\\\\x19\\\\xa2\\\\xa1\\\\x00\\\\xe2\\\\xa5`\\\\xc1\\\\xf1\\\\x8f;\\\\xfa\\\\n\\\\xf5\\\\x95\\\\xb2\\\\x93M[\\\\xa3\\\\xcb\\\\xa9)\\\\x1f\\\\\\'t/\\\\xf2m\\\\xfb\\\\xef\\\\x13\\\\t\\\\xe4\\\\xf3]\\\\xb9\\\\xd0$S\\\\xe8\\\\x17\\\\x03\\\\x99:\\\\xb4o\\\\\\'\\\\xb8Z\\\\x95\\\\xdb\\\\xc6\\\\x12\\\\xd5\\\\x8d%@\\\\xf0\\\\x92\\\\x7f\\\\xdb\\\\xfea\\\\xf83\\\\xef\\\\xa5\\\\xe60\\\\xbd\\\\xf1}<Z\\\\xe1^m\\\\x0b\\\\xa02\\\\x9e$f\\\\xd8\\\\x1b\\\\x06\\\\xe5\\\\x85\\\\xdf+\\\\xec \\\\x1a\\\\xdcG\\\\xac\\\\xfc3/$a\\\\r\\\\xb3\\\\xad\\\\x04S\\\\xff\\\\x03^\\\\xcb&vF\\\\xa4\\\\x9c\\\\x13k*v\\\\xf1\\\\xdd:\\\\xe7\\\\x8a}\\\\xd7X\\\\x9b \\\\xf2_2\\\\xa28\\\\xe7\\\\xd0\\\\xb5\\\\x15\"PYagl\\\\x98y2\\\\xbf\\\\x0c\\\\xad\\\\xa8t\\\\xf4\\\\\\'\\\\x84\\\\x11C\\\\xb6\\\\xdb\\\\x82\\\\xd6#\\\\xc5J\\\\x9a%[\\\\x93\\\\xb3\\\\x02x\\\\xd1\\\\x85Tn \\\\x13\\\\x14\\\\x83\\\\x86\"\\\\x88\\\\x80!d\\\\xb4=70\\\\xde\\\\x87\\\\xc6\\\\xda\\\\x15!x>\\\\x0b\\\\xf7ys\\\\xdc\\\\xc1\\\\xe4\\\\xa5E\\\\xa8\\\\xda\\\\xd0\\\\xbc$\\\\xe3\\\\x882%b\\\\xb2\\\\x8f\\\\n\\\\xbc\\\\x98g\"Cq\\\\xfa\\\\x12}\\\\x0e%\\\\xe9\\\\x14cR\\\\xbf:\\\\x13q\\\\x97{\\\\xaa)\\\\xd4\\\\xf9\\\\x04\\\\x0e~\\\\xb4_\\\\xb6\\\\x85\\\\xf3\\\\xfa\\\\x8b\\\\xee\\\\xa0\\\\xbd\\\\x19\\\\xcc\\\\xd8?\\\\xa3\\\\xe7\\\\xd1\\\\xce}\\\\xe8j%z\\\\x18\\\\xf39\\\\x85\\\\xe7T\\\\x13\\\\x91\\\\x0f$\\\\xb7\\\\x15A\\\\x9d]c_\\\\xaao{JjZ\\\\x9d\\\\x04\\\\xa8\\\\xc8\\\\xc5\\\\na\\\\xcb\\\\\\'\\\\xde\\\\x84\\\\x7f\\\\x86fj\\\\xda\\\\xf2t\\\\x85x\\\\x81\\\\xcd\\\\xefT\\\\x97\\\\xa2\\\\xa2\\\\xbdO\\\\xa0\\\\x9a\\\\xff@\\\\x9a\\\\x1e\\\\x9c#h0\\\\x0e\\\\xac\\\\xb2\\\\x93\\\\x7f\\\\xc0\\\\xe7\\\\x03\\\\xca.\\\\xbc\\\\x05\\''"
      ]
     },
     "execution_count": 14,
     "metadata": {},
     "output_type": "execute_result"
    }
   ],
   "source": [
    "decoded_message"
   ]
  },
  {
   "cell_type": "code",
   "execution_count": 15,
   "metadata": {},
   "outputs": [
    {
     "name": "stdout",
     "output_type": "stream",
     "text": [
      "b'Tz\\xdb\\xab\\x9f#\\xb8\\xe7\\x0b\\xef\\xe8v\\xf4w\\x8c\\xfeV[\\x1f\\x99\\x1eg\\x08\\x91-\\x10\\x1d\\xc4\\x1e\\xd3\\xad\\xb7\\x9d\\xcc\\xfdy\\x99G\\xa39 I\\xb7\\xa0\\x97\\xa3\\x88\\xc8\\x1c%\\xfe\\xda\\xb5{*G5R{\\xf6#\\xc7zd\\x05\\xae@\\xe8\\xe6\\x08\\xe9\\xe7\\x16\\x95\\t\\x06\\xa2X\\xf3\\x87\\x93]7/\\x9c\\xed\\x04\\xecg\\xcb\\xa4l\\xac\\xea\\xe5\\x984\\xa4\\x98r&\\xd5\\xaa\\xf2\\xe3\\xccLsR\\xeel\\xd3r\\xac\\x1a8F\\xa7}\\xa1\\xe4\\xaa\\x01Ylc\\xe4\\x9f\\xa5X.\\xbb\\x9bK\\xb78\\x89s\\x15\\xba\\xfd\\xc1\\xfc\\xf2\\x97\\xa6\\x00aW-G\\xf5\\xb2yM\\xe0\\x19\\xaaI\\xfb\\xa7L\\xe3\\x9d\\x0f\\xb6h\\xf3\\x03z\\xa6\\x9b\\x8d\\xd2\\xa3\\xb9\\xb1\\x0c\\x8d~\\xe9;\\x9e9\\xbf\\xec\\x9e\\xbc\\x9b\\x0c\\xf6\\xd7>\\x82\\x17v*\\xb3\\xf3\\xdf\\x13x@\\xcfD\\x83\\'\\x1c\\xad=\\x08+d;m\\xb9\\xfd\\xa3\\x94,\\xb7j\\x9a$\\xfeW@Z\\x05>\\x04K\\xed\\x96_/\\xe9\\xb8X{\\x9c\\xd0\\x9b\\x1e\\xfc\\x9aG_\\xedS\\xccN\\x1f\\x03SY\\xec;\\xad\\x8f\\x81\\x0f\\xee\\xb8\\xb4\\x1e\\xa2\\xb6\\x81\\xf8\\x939[\\xfd\\xd7I\\xf1\\x83\\\\\\x04W\\x96|\\'\\xb0~Q1)x,\\x18\\xa9`\\xa6\\xd3B\\x01d4pj\\xf7>\\xde\\xc2\\xa0\\x078\\xb2^\\xc3\\xc6\\x05B\\x9an\\x9d+G\\x99x \\xb8\\x8bru\\n\\x17\\\\BK}D\\x00h\\x19\\xa2\\xa1\\x00\\xe2\\xa5`\\xc1\\xf1\\x8f;\\xfa\\n\\xf5\\x95\\xb2\\x93M[\\xa3\\xcb\\xa9)\\x1f\\'t/\\xf2m\\xfb\\xef\\x13\\t\\xe4\\xf3]\\xb9\\xd0$S\\xe8\\x17\\x03\\x99:\\xb4o\\'\\xb8Z\\x95\\xdb\\xc6\\x12\\xd5\\x8d%@\\xf0\\x92\\x7f\\xdb\\xfea\\xf83\\xef\\xa5\\xe60\\xbd\\xf1}<Z\\xe1^m\\x0b\\xa02\\x9e$f\\xd8\\x1b\\x06\\xe5\\x85\\xdf+\\xec \\x1a\\xdcG\\xac\\xfc3/$a\\r\\xb3\\xad\\x04S\\xff\\x03^\\xcb&vF\\xa4\\x9c\\x13k*v\\xf1\\xdd:\\xe7\\x8a}\\xd7X\\x9b \\xf2_2\\xa28\\xe7\\xd0\\xb5\\x15\"PYagl\\x98y2\\xbf\\x0c\\xad\\xa8t\\xf4\\'\\x84\\x11C\\xb6\\xdb\\x82\\xd6#\\xc5J\\x9a%[\\x93\\xb3\\x02x\\xd1\\x85Tn \\x13\\x14\\x83\\x86\"\\x88\\x80!d\\xb4=70\\xde\\x87\\xc6\\xda\\x15!x>\\x0b\\xf7ys\\xdc\\xc1\\xe4\\xa5E\\xa8\\xda\\xd0\\xbc$\\xe3\\x882%b\\xb2\\x8f\\n\\xbc\\x98g\"Cq\\xfa\\x12}\\x0e%\\xe9\\x14cR\\xbf:\\x13q\\x97{\\xaa)\\xd4\\xf9\\x04\\x0e~\\xb4_\\xb6\\x85\\xf3\\xfa\\x8b\\xee\\xa0\\xbd\\x19\\xcc\\xd8?\\xa3\\xe7\\xd1\\xce}\\xe8j%z\\x18\\xf39\\x85\\xe7T\\x13\\x91\\x0f$\\xb7\\x15A\\x9d]c_\\xaao{JjZ\\x9d\\x04\\xa8\\xc8\\xc5\\na\\xcb\\'\\xde\\x84\\x7f\\x86fj\\xda\\xf2t\\x85x\\x81\\xcd\\xefT\\x97\\xa2\\xa2\\xbdO\\xa0\\x9a\\xff@\\x9a\\x1e\\x9c#h0\\x0e\\xac\\xb2\\x93\\x7f\\xc0\\xe7\\x03\\xca.\\xbc\\x05'\n"
     ]
    }
   ],
   "source": [
    "decoded_message[1:-1]\n",
    "print(decoded_message)\n",
    "c=bytes(list(b'\\x0e\\x8f\\xc1l\\xcc%\\xce\\x07\\xd5\"\\x0fK\\xd1\\x8d^\\xaf\\xd6\\x1f\\xd6\\xa2&D\\xa7\\xd30\\xfd\\x16}\\xe53\\x03A}\\xca\\xf4*\\xc9\\xc2C\\xba\\xa2\\xa9\\x17\\xd2\\\\AL\\x07\\xcbO\\xfa\\xb7Q\\xff\\x8cw\\xa6\\xf8C\\xcd,\\xb7\\xcf}E\\xech\\x8b_\\x91U\\\\nc\\xf9~\\xcc\\xfa$\\xf7\\x1f\\xc3\\x12\\xecZ\\x89\\x17\\xc8\\xe2\\xc7M\\x0e\\x1a\\xb4\\xfb\\x80\\x06\\xc34\\xd0\\xad\\xd6\\xde\\x1a\\x82:\\x1c\\xdf\\xd9\\x94V\\xfb\\x7f\\xc3\\xf0\\xb6)H\\xa8|\\xffL\\xb12\\xe7\\xf4\\xc6l\\x84L<W M\\tb\\xca`\\xb2\\xaf\\xeb\\x1e\\xd1\\x1f\\x02\\xd8R%\\xcf\\x959\\xfa3\\x11_\\xe4\\x7f\\xf9\\xa5b\\xcd\\x7f{\\xa3U\\xe3/\\xee\\xcb>k\\xcc\\xef[\\x92 \\x92\\xdc\\x8f\\xc0\\x94M\\xacf\\xc8\\xdf\\xff\\x17v\\x9c\\xb4\\xc9\\x88\\r}\\xe5\\xe9\\t(\\x8e\\xfd\\xa6\\xea\\xd8cC\\xacu\\xf7\\xe3\\xc8;\\xfbH1\\xbbc\\x95g\\x04\\xc2d(x\\xe8\\\\|\\x0c\\xe2\\xfa\\xbcjX\\x82\\xb0P\\xb9\\xc9\\xedE\\x16\\x81HM\\xb10\\x18\\xdb\\xc2\\x92:\\x8e+\\xad\\xda\\xdb\\xec\\xb8\\xdf\\xbeTu1\\x11\\x96\\x89c\\xcc@\\x838\\x12\\xea\\x88\\xde\\xd6w\\xa8\\x0b\\xf3E\\x83w\\x9e\\xbe]\\xf4\\xd9sQ\\x00\\xb02\\x84h_\\xff\\xce]:C\\x0e\\x8d\\xe8PR\\x85\\xa7\\x83\\xc3\\xf6\\xcf\\x80\\xc6G\\xf2\\xf2\\x1aYE?\\xf0\\x1f\\xd6\\x08\\xf7V\\xcd\\x88e[\\x1a\\xdc\\xda}\\xe7ABU\\x0c\\xbdC\\x04F\\xa9v\\xf4GR\\xda,\\xe8\\xc8\\xba.\\xb7\\xca\\x97U\\xb2\\xb3\\x13Q\\xebE\\x06\\xbcN\\x81o\\x1a\\x98*\\xb1\\xc7\\xf8\\xdeS,-\\xa4\\xa0\\xef\\xd8\\x87\\xb4\\xb9\\x83xB\\x94\\xf0\\xc0\\xa43\\xf4\\'\\xe0a\\xf8\\x10\\xf6\\xce\\x96\\xd8\\x01\\x90\\x18s\\xe4\\x81\\xa0K\\xcdc\\xcb\\x1f\\xe1\\xb1\\xa5\\x13\\xa6\\xb4\\xbc\\x0f\\xdb\\xeb\\xe8q\\xc8\\x91\\xe2,\\xf2\\xf6\\x12~\\x95\\x85\\xe1\\xda\\xf9\\xefa\\x1f\\x84\\xefv\\xb7#\\xc3~\\xe9\\x1f3\\xd4\\xf9\\xa8\\x8e\\xb2\\x1c\\\\Ki\\x952\\x7f\\x89\\x15\\xd2\\xe3Gkp\\xa3\\xde*\\xe2i\\x83\\xfa^x!.\\x1c\\xa7\\xa5\\xd8\\xdc\\x0cI\\x99\\xdf\\xbf\\x17\\xea\\xcc\\xd7\\x98\\xf1\\xd4S\\x1f\\xa2\\xe7)\\x1eN\\xa4>|\\x10Lm\\x99\\x13D@\\x91_\\xdd\\x1fB\\x0f\\xe8\\xf7\\xe8\\xb8\\xbd\\xb7k\\xadV\\x7f\\xf5;a\\xa0\\xe60#\\x1a\\xf2]\\xf7\\xf4R\\xeea\\xdf\\xb9\\xac\\xf5\\xa9\\x11\\xae\\tTE\\xe3\\xba\\x81\\x15\\xd0B+\\xb6\\x7f\\xf2\\x9b\\x18E\\xee\\x17j\\xc2\\x9d|\\xda4,\\xd3\\xb5j,W\\xbd\\xae\\xafi%\\x8a\\x97\\xc7g\\x82\\xf9\\x15m\\x98\\xe8\\xc0\\x16\\x14F\\x0e\\xbf\\xb1w\\x12\\xbf\\x8b+T\\xe4\\x02\\xf3E\\xb0\\xe81\\xf9\\x960H:z\\xba\\xafL-H\\xb9\\xa0\\xc0-\\xa9\\xef,\\xbc\\xd6\\x1d\\xc9\\xe4\\x95a\\x9d\\x85\\x88\\x19f\\x10\\xd4\\x8a\\xec6*@\\x02\\x8f\\x13\\x0f1\\xa0\\xcc\\x8d\\x0c\\xb3_\\x00v\\xa2\\xc3:s\\xe1\\x1f\\x11j\\xea'))\n"
   ]
  },
  {
   "cell_type": "code",
   "execution_count": 16,
   "metadata": {},
   "outputs": [],
   "source": [
    "c=bytes(list(b'Tz\\xdb\\xab\\x9f#\\xb8\\xe7\\x0b\\xef\\xe8v\\xf4w\\x8c\\xfeV[\\x1f\\x99\\x1eg\\x08\\x91-\\x10\\x1d\\xc4\\x1e\\xd3\\xad\\xb7\\x9d\\xcc\\xfdy\\x99G\\xa39 I\\xb7\\xa0\\x97\\xa3\\x88\\xc8\\x1c%\\xfe\\xda\\xb5{*G5R{\\xf6#\\xc7zd\\x05\\xae@\\xe8\\xe6\\x08\\xe9\\xe7\\x16\\x95\\t\\x06\\xa2X\\xf3\\x87\\x93]7/\\x9c\\xed\\x04\\xecg\\xcb\\xa4l\\xac\\xea\\xe5\\x984\\xa4\\x98r&\\xd5\\xaa\\xf2\\xe3\\xccLsR\\xeel\\xd3r\\xac\\x1a8F\\xa7}\\xa1\\xe4\\xaa\\x01Ylc\\xe4\\x9f\\xa5X.\\xbb\\x9bK\\xb78\\x89s\\x15\\xba\\xfd\\xc1\\xfc\\xf2\\x97\\xa6\\x00aW-G\\xf5\\xb2yM\\xe0\\x19\\xaaI\\xfb\\xa7L\\xe3\\x9d\\x0f\\xb6h\\xf3\\x03z\\xa6\\x9b\\x8d\\xd2\\xa3\\xb9\\xb1\\x0c\\x8d~\\xe9;\\x9e9\\xbf\\xec\\x9e\\xbc\\x9b\\x0c\\xf6\\xd7>\\x82\\x17v*\\xb3\\xf3\\xdf\\x13x@\\xcfD\\x83\\'\\x1c\\xad=\\x08+d;m\\xb9\\xfd\\xa3\\x94,\\xb7j\\x9a$\\xfeW@Z\\x05>\\x04K\\xed\\x96_/\\xe9\\xb8X{\\x9c\\xd0\\x9b\\x1e\\xfc\\x9aG_\\xedS\\xccN\\x1f\\x03SY\\xec;\\xad\\x8f\\x81\\x0f\\xee\\xb8\\xb4\\x1e\\xa2\\xb6\\x81\\xf8\\x939[\\xfd\\xd7I\\xf1\\x83\\\\\\x04W\\x96|\\'\\xb0~Q1)x,\\x18\\xa9`\\xa6\\xd3B\\x01d4pj\\xf7>\\xde\\xc2\\xa0\\x078\\xb2^\\xc3\\xc6\\x05B\\x9an\\x9d+G\\x99x \\xb8\\x8bru\\n\\x17\\\\BK}D\\x00h\\x19\\xa2\\xa1\\x00\\xe2\\xa5`\\xc1\\xf1\\x8f;\\xfa\\n\\xf5\\x95\\xb2\\x93M[\\xa3\\xcb\\xa9)\\x1f\\'t/\\xf2m\\xfb\\xef\\x13\\t\\xe4\\xf3]\\xb9\\xd0$S\\xe8\\x17\\x03\\x99:\\xb4o\\'\\xb8Z\\x95\\xdb\\xc6\\x12\\xd5\\x8d%@\\xf0\\x92\\x7f\\xdb\\xfea\\xf83\\xef\\xa5\\xe60\\xbd\\xf1}<Z\\xe1^m\\x0b\\xa02\\x9e$f\\xd8\\x1b\\x06\\xe5\\x85\\xdf+\\xec \\x1a\\xdcG\\xac\\xfc3/$a\\r\\xb3\\xad\\x04S\\xff\\x03^\\xcb&vF\\xa4\\x9c\\x13k*v\\xf1\\xdd:\\xe7\\x8a}\\xd7X\\x9b \\xf2_2\\xa28\\xe7\\xd0\\xb5\\x15\"PYagl\\x98y2\\xbf\\x0c\\xad\\xa8t\\xf4\\'\\x84\\x11C\\xb6\\xdb\\x82\\xd6#\\xc5J\\x9a%[\\x93\\xb3\\x02x\\xd1\\x85Tn \\x13\\x14\\x83\\x86\"\\x88\\x80!d\\xb4=70\\xde\\x87\\xc6\\xda\\x15!x>\\x0b\\xf7ys\\xdc\\xc1\\xe4\\xa5E\\xa8\\xda\\xd0\\xbc$\\xe3\\x882%b\\xb2\\x8f\\n\\xbc\\x98g\"Cq\\xfa\\x12}\\x0e%\\xe9\\x14cR\\xbf:\\x13q\\x97{\\xaa)\\xd4\\xf9\\x04\\x0e~\\xb4_\\xb6\\x85\\xf3\\xfa\\x8b\\xee\\xa0\\xbd\\x19\\xcc\\xd8?\\xa3\\xe7\\xd1\\xce}\\xe8j%z\\x18\\xf39\\x85\\xe7T\\x13\\x91\\x0f$\\xb7\\x15A\\x9d]c_\\xaao{JjZ\\x9d\\x04\\xa8\\xc8\\xc5\\na\\xcb\\'\\xde\\x84\\x7f\\x86fj\\xda\\xf2t\\x85x\\x81\\xcd\\xefT\\x97\\xa2\\xa2\\xbdO\\xa0\\x9a\\xff@\\x9a\\x1e\\x9c#h0\\x0e\\xac\\xb2\\x93\\x7f\\xc0\\xe7\\x03\\xca.\\xbc\\x05'))"
   ]
  },
  {
   "cell_type": "code",
   "execution_count": 17,
   "metadata": {},
   "outputs": [
    {
     "name": "stdout",
     "output_type": "stream",
     "text": [
      "Plain text: Class eu quam elit, adipiscing leo condimentum, aptent elementum sapien ac congue iaculis. Lacinia aptent, maecenas id erat. Ad convallis nibh placerat, potenti a curabitur, at litora leo molestie consequat amet tellus. Dui cursus, mollis euismod feugiat. Suspendisse vitae rhoncus, sed sagittis, magna erat commodo velit vulputate praesent. Eu etiam aliquam neque, eget venenatis elit, fringilla curabitur sociosqu cras mi ante. Vehicula eget, ac vivamus luctus malesuada. Class auctor cursus adipiscing, donec sodales curabitur, tellus donec dui eu ante diam mattis. Sagittis tempor netus, feugiat quis non nulla. Class augue ut, phasellus donec, lacinia praesent neque sem nunc.\n"
     ]
    }
   ],
   "source": [
    "plaintext = decrypt(nonce, c)\n",
    "print(f'Plain text: {plaintext}')"
   ]
  }
 ],
 "metadata": {
  "kernelspec": {
   "display_name": "Python 3",
   "language": "python",
   "name": "python3"
  },
  "language_info": {
   "codemirror_mode": {
    "name": "ipython",
    "version": 3
   },
   "file_extension": ".py",
   "mimetype": "text/x-python",
   "name": "python",
   "nbconvert_exporter": "python",
   "pygments_lexer": "ipython3",
   "version": "3.9.6"
  },
  "orig_nbformat": 4
 },
 "nbformat": 4,
 "nbformat_minor": 2
}
